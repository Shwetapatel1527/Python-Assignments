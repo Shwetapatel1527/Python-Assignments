{
 "cells": [
  {
   "cell_type": "markdown",
   "id": "3df855d5-1df1-4768-a3b3-7e2fd69ab537",
   "metadata": {},
   "source": [
    "## Q1. Write a program to Calculation Electricity Bill (Only if Statement)\n",
    "using only if statement? (accept number of unit from user)\n",
    "according to the following criteria:\n",
    "\n",
    "Unit                         Price\n",
    "First 100 units              no charge\n",
    "Next 100 units               Rs 5 per unit\n",
    "After 200 units              Rs 10 per unit\n",
    "(For example, if input unit is 350 than total bill amount is Rs2000). Lets explain...\n",
    "For first 100 no charges\n",
    "Now you have 250 unit remaining\n",
    "100-200 you need to pay – 100*5 = 500\n",
    "Now 200-100 you need to pay 150*10 = 1500\n",
    "Total = 500+1500 = 2000"
   ]
  },
  {
   "cell_type": "code",
   "execution_count": 3,
   "id": "fe1b9943-d7e2-4717-bde4-12dd1d99ea43",
   "metadata": {},
   "outputs": [
    {
     "name": "stdin",
     "output_type": "stream",
     "text": [
      "Enter electricity units used:  256\n"
     ]
    },
    {
     "name": "stdout",
     "output_type": "stream",
     "text": [
      "Total bill is Rs 1060\n"
     ]
    }
   ],
   "source": [
    "units = int(input(\"Enter electricity units used: \"))\n",
    "bill = 0\n",
    "\n",
    "if units > 100:\n",
    "    if units <= 200:\n",
    "        bill = (units - 100) * 5\n",
    "    else:\n",
    "        bill = 100 * 5 + (units - 200) * 10\n",
    "\n",
    "print(\"Total bill is Rs\", bill)"
   ]
  },
  {
   "cell_type": "code",
   "execution_count": null,
   "id": "304a699f-66ac-47e0-9b74-1dc92e3e10c4",
   "metadata": {},
   "outputs": [],
   "source": []
  },
  {
   "cell_type": "markdown",
   "id": "5aa85d0a-7ddd-4918-8871-7f47a707968d",
   "metadata": {},
   "source": [
    "## Q2. Write a program to accept percentage from the user and display\n",
    "the grade according to the following criteria:\n",
    "\n",
    "Marks                  Grade\n",
    "> 90                   A\n",
    "> 80 and <= 90         B\n",
    ">= 60 and <= 80        C\n",
    "below 60               D"
   ]
  },
  {
   "cell_type": "code",
   "execution_count": 4,
   "id": "b5a3023f-28bb-47ed-9865-255e5db428a4",
   "metadata": {},
   "outputs": [
    {
     "name": "stdin",
     "output_type": "stream",
     "text": [
      "Enter your percentage:  80\n"
     ]
    },
    {
     "name": "stdout",
     "output_type": "stream",
     "text": [
      "Grade: C\n"
     ]
    }
   ],
   "source": [
    "percentage = float(input(\"Enter your percentage: \"))\n",
    "\n",
    "if percentage > 90:\n",
    "    print(\"Grade: A\")\n",
    "elif percentage > 80:\n",
    "    print(\"Grade: B\")\n",
    "elif percentage >= 60:\n",
    "    print(\"Grade: C\")\n",
    "else:\n",
    "    print(\"Grade: D\")\n"
   ]
  },
  {
   "cell_type": "code",
   "execution_count": null,
   "id": "61545af4-be3e-41f0-9c05-0cd6bd997a2a",
   "metadata": {},
   "outputs": [],
   "source": []
  },
  {
   "cell_type": "markdown",
   "id": "cecac7c7-c37a-4e11-9e88-2a9df44b4944",
   "metadata": {},
   "source": [
    "## Q3. Accept the age of 4 people and display the youngest one?"
   ]
  },
  {
   "cell_type": "code",
   "execution_count": 5,
   "id": "960c9f83-8ab3-4d3c-8687-0a6f659b6a27",
   "metadata": {},
   "outputs": [
    {
     "name": "stdin",
     "output_type": "stream",
     "text": [
      "Enter age of person 1:  12\n",
      "Enter age of person 2:  56\n",
      "Enter age of person 3:  17\n",
      "Enter age of person 4:  90\n"
     ]
    },
    {
     "name": "stdout",
     "output_type": "stream",
     "text": [
      "The youngest age is: 12\n"
     ]
    }
   ],
   "source": [
    "a = int(input(\"Enter age of person 1: \"))\n",
    "b = int(input(\"Enter age of person 2: \"))\n",
    "c = int(input(\"Enter age of person 3: \"))\n",
    "d = int(input(\"Enter age of person 4: \"))\n",
    "\n",
    "youngest = a\n",
    "if b < youngest:\n",
    "    youngest = b\n",
    "if c < youngest:\n",
    "    youngest = c\n",
    "if d < youngest:\n",
    "    youngest = d\n",
    "\n",
    "print(\"The youngest age is:\", youngest)"
   ]
  },
  {
   "cell_type": "code",
   "execution_count": null,
   "id": "260fb8ac-7940-4c3b-8265-26f24f9ecdbd",
   "metadata": {},
   "outputs": [],
   "source": []
  },
  {
   "cell_type": "markdown",
   "id": "1792890f-45bf-4d45-8aca-fe033a8117ed",
   "metadata": {},
   "source": [
    "## Q4. A company decided to give bonus to employee\n",
    "according to following criteria:\n",
    "\n",
    "Time period of Service              Bonus\n",
    "\n",
    "More than 10 years                  10%\n",
    "\n",
    ">=6 and <=10                         8%\n",
    "\n",
    "Less than 6 years                    5%\n",
    "\n",
    "Ask user for their salary and years of service and print the\n",
    "net bonus amount?"
   ]
  },
  {
   "cell_type": "code",
   "execution_count": 6,
   "id": "0e312040-6c6c-498a-9f0f-e79bb117e514",
   "metadata": {},
   "outputs": [
    {
     "name": "stdin",
     "output_type": "stream",
     "text": [
      "Enter your salary:  40\n",
      "Enter years of service:  2\n"
     ]
    },
    {
     "name": "stdout",
     "output_type": "stream",
     "text": [
      "Bonus amount is: 2.0\n"
     ]
    }
   ],
   "source": [
    "salary = float(input(\"Enter your salary: \"))\n",
    "years = int(input(\"Enter years of service: \"))\n",
    "\n",
    "bonus = 0\n",
    "\n",
    "if years > 10:\n",
    "    bonus = 0.10 * salary\n",
    "elif years >= 6:\n",
    "    bonus = 0.08 * salary\n",
    "else:\n",
    "    bonus = 0.05 * salary\n",
    "\n",
    "print(\"Bonus amount is:\", bonus)\n"
   ]
  },
  {
   "cell_type": "code",
   "execution_count": null,
   "id": "876a4d8f-f1ee-4f56-96ce-11669e3c310f",
   "metadata": {},
   "outputs": [],
   "source": []
  },
  {
   "cell_type": "markdown",
   "id": "ef66ec98-615c-4171-b300-4cf552ba92e5",
   "metadata": {},
   "source": [
    "## Q5. Accept three numbers from the user and display the second largest number?"
   ]
  },
  {
   "cell_type": "code",
   "execution_count": 7,
   "id": "a1ed269d-4048-4fa5-a685-09de78e557a7",
   "metadata": {},
   "outputs": [
    {
     "name": "stdin",
     "output_type": "stream",
     "text": [
      "Enter first number:  23\n",
      "Enter second number:  24\n",
      "Enter third number:  25\n"
     ]
    },
    {
     "name": "stdout",
     "output_type": "stream",
     "text": [
      "Second largest number is: 24\n"
     ]
    }
   ],
   "source": [
    "a = int(input(\"Enter first number: \"))\n",
    "b = int(input(\"Enter second number: \"))\n",
    "c = int(input(\"Enter third number: \"))\n",
    "\n",
    "if a > b:\n",
    "    if a < c:\n",
    "        second = a\n",
    "    elif b > c:\n",
    "        second = b\n",
    "    else:\n",
    "        second = c\n",
    "else:\n",
    "    if b < c:\n",
    "        second = b\n",
    "    elif a > c:\n",
    "        second = a\n",
    "    else:\n",
    "        second = c\n",
    "\n",
    "print(\"Second largest number is:\", second)\n"
   ]
  },
  {
   "cell_type": "code",
   "execution_count": null,
   "id": "cdca2262-f4be-4e6c-9a3b-55814647583f",
   "metadata": {},
   "outputs": [],
   "source": []
  },
  {
   "cell_type": "markdown",
   "id": "630e816f-eff9-47f3-aaf1-726a924aed66",
   "metadata": {},
   "source": [
    "## Q6. Accept the marked price from the user and calculate\n",
    "the Net amount as (Marked Price – Discount) to pay\n",
    "according to following criteria:\n",
    "\n",
    "Marked Price            Discount\n",
    ">10000                  20%\n",
    ">7000 and <=10000       15%\n",
    "<=7000                  10%"
   ]
  },
  {
   "cell_type": "code",
   "execution_count": 8,
   "id": "80945407-454d-4b35-a976-7cf0a91aa4f1",
   "metadata": {},
   "outputs": [
    {
     "name": "stdin",
     "output_type": "stream",
     "text": [
      "Enter marked price:  500\n"
     ]
    },
    {
     "name": "stdout",
     "output_type": "stream",
     "text": [
      "Net amount to pay: 450.0\n"
     ]
    }
   ],
   "source": [
    "price = float(input(\"Enter marked price: \"))\n",
    "\n",
    "if price > 10000:\n",
    "    discount = 0.20 * price\n",
    "elif price > 7000:\n",
    "    discount = 0.15 * price\n",
    "else:\n",
    "    discount = 0.10 * price\n",
    "\n",
    "net_price = price - discount\n",
    "print(\"Net amount to pay:\", net_price)\n"
   ]
  },
  {
   "cell_type": "code",
   "execution_count": null,
   "id": "f8534470-1d7b-4228-b605-70aeb161cda8",
   "metadata": {},
   "outputs": [],
   "source": []
  },
  {
   "cell_type": "markdown",
   "id": "3a0b6530-50e6-4203-9dc2-9345c4fea2dc",
   "metadata": {},
   "source": [
    "## Q7. Accept the marks of English, Math and Science, Social Studies Subject and display the stream allotted according to following:\n",
    "\n",
    "All Subjects more than 80 marks — Science Stream\n",
    "\n",
    "English >80 and Math, Science above 50 — Commerce Stream\n",
    "\n",
    "English > 80 and social studies > 80 — Humanities"
   ]
  },
  {
   "cell_type": "code",
   "execution_count": 10,
   "id": "970d81dd-e327-43bc-9c68-e764db664410",
   "metadata": {},
   "outputs": [
    {
     "name": "stdin",
     "output_type": "stream",
     "text": [
      "Enter English marks:  85\n",
      "Enter Math marks:  81\n",
      "Enter Science marks:  89\n",
      "Enter Social Studies marks:  82\n"
     ]
    },
    {
     "name": "stdout",
     "output_type": "stream",
     "text": [
      "Stream Allotted: Science Stream\n"
     ]
    }
   ],
   "source": [
    "eng = int(input(\"Enter English marks: \"))\n",
    "math = int(input(\"Enter Math marks: \"))\n",
    "sci = int(input(\"Enter Science marks: \"))\n",
    "sst = int(input(\"Enter Social Studies marks: \"))\n",
    "\n",
    "if eng > 80 and math > 80 and sci > 80 and sst > 80:\n",
    "    print(\"Stream Allotted: Science Stream\")\n",
    "elif eng > 80 and math > 50 and sci > 50:\n",
    "    print(\"Stream Allotted: Commerce Stream\")\n",
    "elif eng > 80 and sst > 80:\n",
    "    print(\"Stream Allotted: Humanities\")\n",
    "else:\n",
    "    print(\"No stream allotted based on given criteria\")\n"
   ]
  },
  {
   "cell_type": "code",
   "execution_count": null,
   "id": "5a1755f1-6f2d-469b-8b21-616f85dd47dc",
   "metadata": {},
   "outputs": [],
   "source": []
  },
  {
   "cell_type": "markdown",
   "id": "3aded3f9-86de-4511-9f91-68fd650114f9",
   "metadata": {},
   "source": [
    "## Q8. Write a program to display \"Hello\" if a number entered by user is a multiple of five, otherwise print \"Bye\"?"
   ]
  },
  {
   "cell_type": "code",
   "execution_count": 12,
   "id": "f8d3da38-daf6-4109-bd49-f9fff3695efe",
   "metadata": {},
   "outputs": [
    {
     "name": "stdin",
     "output_type": "stream",
     "text": [
      "Enter a number:  10\n"
     ]
    },
    {
     "name": "stdout",
     "output_type": "stream",
     "text": [
      "Hello\n"
     ]
    }
   ],
   "source": [
    "num = int(input(\"Enter a number: \"))\n",
    "\n",
    "if num % 5 == 0:\n",
    "    print(\"Hello\")\n",
    "else:\n",
    "    print(\"Bye\")\n"
   ]
  },
  {
   "cell_type": "code",
   "execution_count": null,
   "id": "217c489b-2d5f-4e94-bbb7-27bbc3018d21",
   "metadata": {},
   "outputs": [],
   "source": []
  },
  {
   "cell_type": "markdown",
   "id": "a128cc9b-bf6d-4464-bc3d-7391397a0c1b",
   "metadata": {},
   "source": [
    "## Q9. Write a program to check whether the last digit of a number (entered by user) is divisible by 3 or not?"
   ]
  },
  {
   "cell_type": "code",
   "execution_count": 15,
   "id": "0b134759-ae6e-4d2e-b04f-525af21b6403",
   "metadata": {},
   "outputs": [
    {
     "name": "stdin",
     "output_type": "stream",
     "text": [
      "Enter a number:  60\n"
     ]
    },
    {
     "name": "stdout",
     "output_type": "stream",
     "text": [
      "Last digit is divisible by 3\n"
     ]
    }
   ],
   "source": [
    "num = int(input(\"Enter a number: \"))\n",
    "last_digit = num % 10\n",
    "\n",
    "if last_digit % 3 == 0:\n",
    "    print(\"Last digit is divisible by 3\")\n",
    "else:\n",
    "    print(\"Last digit is not divisible by 3\")\n",
    "    "
   ]
  },
  {
   "cell_type": "code",
   "execution_count": null,
   "id": "3c964854-91c2-4dd9-995f-1cdba47addb7",
   "metadata": {},
   "outputs": [],
   "source": []
  },
  {
   "cell_type": "markdown",
   "id": "52d7b498-2f87-4684-845e-3e1777d39e7d",
   "metadata": {},
   "source": [
    "## Q10. Three-Digit Number Check"
   ]
  },
  {
   "cell_type": "code",
   "execution_count": 16,
   "id": "d2cdddfe-59ee-491f-acbd-d562b112b840",
   "metadata": {},
   "outputs": [
    {
     "name": "stdin",
     "output_type": "stream",
     "text": [
      "Enter a number:  67\n"
     ]
    },
    {
     "name": "stdout",
     "output_type": "stream",
     "text": [
      "It is not a three-digit number\n"
     ]
    }
   ],
   "source": [
    "num = int(input(\"Enter a number: \"))\n",
    "\n",
    "if num >= 100 and num <= 999:\n",
    "    print(\"It is a three-digit number\")\n",
    "else:\n",
    "    print(\"It is not a three-digit number\")\n"
   ]
  },
  {
   "cell_type": "code",
   "execution_count": null,
   "id": "5b4d3629-58e5-4cb0-9345-598433d468f5",
   "metadata": {},
   "outputs": [],
   "source": []
  },
  {
   "cell_type": "code",
   "execution_count": null,
   "id": "199642b1-fb61-43ea-b31b-c8c6769a3ba4",
   "metadata": {},
   "outputs": [],
   "source": []
  },
  {
   "cell_type": "code",
   "execution_count": null,
   "id": "a7cd00fb-16f0-48ec-95ad-bae3b12a028b",
   "metadata": {},
   "outputs": [],
   "source": []
  },
  {
   "cell_type": "code",
   "execution_count": null,
   "id": "942cd8b8-6328-4349-8b33-57c0610713d4",
   "metadata": {},
   "outputs": [],
   "source": []
  },
  {
   "cell_type": "code",
   "execution_count": null,
   "id": "66d043db-7311-41d4-a050-9dfa41f6bb8d",
   "metadata": {},
   "outputs": [],
   "source": []
  },
  {
   "cell_type": "code",
   "execution_count": null,
   "id": "5014cb4e-dff2-4468-8634-44dc5957cf11",
   "metadata": {},
   "outputs": [],
   "source": []
  }
 ],
 "metadata": {
  "kernelspec": {
   "display_name": "Python [conda env:base] *",
   "language": "python",
   "name": "conda-base-py"
  },
  "language_info": {
   "codemirror_mode": {
    "name": "ipython",
    "version": 3
   },
   "file_extension": ".py",
   "mimetype": "text/x-python",
   "name": "python",
   "nbconvert_exporter": "python",
   "pygments_lexer": "ipython3",
   "version": "3.12.7"
  }
 },
 "nbformat": 4,
 "nbformat_minor": 5
}
