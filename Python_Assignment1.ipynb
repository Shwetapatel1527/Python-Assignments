{
 "cells": [
  {
   "cell_type": "markdown",
   "id": "a8682a22-d572-498e-b3f3-995c78309e49",
   "metadata": {},
   "source": [
    "1. In the below elements which of them are values or an expression? eg:- values can be\n",
    "integer or string and expressions will be mathematical operators.\n",
    "*\n",
    "'hello'\n",
    "-87.8\n",
    "-\n",
    "/\n",
    "+\n",
    "6"
   ]
  },
  {
   "cell_type": "code",
   "execution_count": null,
   "id": "bc8c32af-2aa6-488d-b659-dfb024d154aa",
   "metadata": {},
   "outputs": [],
   "source": [
    "Values:'hello', -87.8, 6\n",
    "Expression:*, -, /, +"
   ]
  },
  {
   "cell_type": "markdown",
   "id": "eabb4afd-c943-4126-9264-db4811419e4e",
   "metadata": {},
   "source": [
    "2. What is the difference between string and variable?"
   ]
  },
  {
   "cell_type": "code",
   "execution_count": null,
   "id": "eb135010-207d-4e5e-a67c-02e813db1fc2",
   "metadata": {},
   "outputs": [],
   "source": [
    "String: \n",
    "A string is a value.\n",
    "It is a sequence of characters written inside quotes.eg-'hello', \"Shweta\", '123\n",
    "\n",
    "Variable:\n",
    "A variable is a name used to store data (like a string, number, etc.).\n",
    "It does not have quotes.eg-name=\"Shweta\""
   ]
  },
  {
   "cell_type": "markdown",
   "id": "26a68ab5-68bc-4ad1-9367-956a20fff7b0",
   "metadata": {},
   "source": [
    "3. Describe three different data types."
   ]
  },
  {
   "cell_type": "code",
   "execution_count": null,
   "id": "e7c62d55-f41a-40c4-8c14-7e7889a7ca1a",
   "metadata": {},
   "outputs": [],
   "source": [
    "Three different data types are:\n",
    "\n",
    "1. Integer (int)\n",
    "Used to store whole numbers (no decimal).\n",
    "Example: 5, -10, 200\n",
    "\n",
    " 2. Float (float)\n",
    "Used to store decimal numbers or fractions.\n",
    "Example: 3.14, -87.5, 0.0\n",
    "\n",
    "3. String (str)\n",
    "Used to store text or characters.\n",
    "Written inside single (' ') or double (\" \") quotes.\n",
    "Example: 'Shweta', \"Python is fun\""
   ]
  },
  {
   "cell_type": "markdown",
   "id": "5cb93947-efe7-45b8-ae65-bba5a8cc3fb1",
   "metadata": {},
   "source": [
    "4. What is an expression made up of? What do all expressions do?"
   ]
  },
  {
   "cell_type": "code",
   "execution_count": null,
   "id": "083a94bd-1a9a-4df5-9b55-09f49622771c",
   "metadata": {},
   "outputs": [],
   "source": [
    "An expression is made up of:\n",
    "Values – like numbers or strings (5, 'hello')\n",
    "Variables – like x, name\n",
    "Operators – like +, -, *, /\n",
    "Function calls – like len(name), sum([1,2,3])\n",
    "\n",
    "All expressions are evaluated to produce a single result (value)"
   ]
  },
  {
   "cell_type": "markdown",
   "id": "43f1d786-e15f-4062-b032-f3fc7e808380",
   "metadata": {},
   "source": [
    "5. This assignment statements, like spam = 10. What is the difference between an\n",
    "expression and a statement?"
   ]
  },
  {
   "cell_type": "code",
   "execution_count": null,
   "id": "7bc1434e-e9a0-482f-8cf4-f07559d0bf71",
   "metadata": {},
   "outputs": [],
   "source": [
    "spam = 10\n",
    "This is a statement, not an expression. \n",
    "\n",
    "Expression: An expression is any piece of code that produce a value.\n",
    "eg. 2+3\n",
    "    \n",
    "Statement: A statement is a complete line of code that does something.\n",
    "A statement may contain expression, but a statement "
   ]
  },
  {
   "cell_type": "markdown",
   "id": "32693054-0f9f-4308-9bd1-738a1258d552",
   "metadata": {},
   "source": [
    "6. After running the following code, what does the variable bacon contain?\n",
    "bacon = 22\n",
    "bacon + 1"
   ]
  },
  {
   "cell_type": "code",
   "execution_count": null,
   "id": "7c321a0d-42b9-492c-ab4d-2e677c557e0a",
   "metadata": {},
   "outputs": [],
   "source": [
    "bacon = 22\n",
    "bacon = bacon+1\n",
    "print(bacon)"
   ]
  },
  {
   "cell_type": "markdown",
   "id": "18ea8da5-c10e-4320-b89a-2808e27d760c",
   "metadata": {},
   "source": [
    "7. What should the values of the following two terms be?\n",
    "'spam' + 'spamspam'\n",
    "'spam'*3"
   ]
  },
  {
   "cell_type": "code",
   "execution_count": null,
   "id": "7f50fd7a-ec85-41b0-9f46-f39a0cfd1f86",
   "metadata": {},
   "outputs": [],
   "source": [
    "print('spam' + 'spamspam')\n",
    "print('spam'*3)\n",
    "\n",
    "both have the same value -spamspamspam"
   ]
  },
  {
   "cell_type": "markdown",
   "id": "74b07655-570d-46c1-9145-bcd7d58e58e0",
   "metadata": {},
   "source": [
    "8. Why is eggs a valid variable name while 100 is invalid?"
   ]
  },
  {
   "cell_type": "code",
   "execution_count": null,
   "id": "792d6067-e441-4afa-8294-d2a287acfa1b",
   "metadata": {},
   "outputs": [],
   "source": [
    "eggs is a valid variable because it Starts with a letter\n",
    "\n",
    "100\tis invalid because it Starts with a number.\n",
    "\n",
    "Note-Variable names must begin with a letter (a–z, A–Z) or an underscore _, not a digit"
   ]
  },
  {
   "cell_type": "markdown",
   "id": "8344b233-5192-49e9-9205-bded638cf0f4",
   "metadata": {},
   "source": [
    "9. What three functions can be used to get the integer, floating-point number, or string\n",
    "version of a value?"
   ]
  },
  {
   "cell_type": "code",
   "execution_count": null,
   "id": "6dace1b5-769f-49bb-ab64-506cf3a69a34",
   "metadata": {},
   "outputs": [],
   "source": [
    "1.Convert to Integer - int()\n",
    "2.Convert to Floating-point - float()\n",
    "3.Convert to String - str()"
   ]
  },
  {
   "cell_type": "markdown",
   "id": "c7203ed8-f22c-4182-91dc-927dd1c12391",
   "metadata": {},
   "source": [
    "10. Why does this expression cause an error? How can you fix it?\n",
    "'I have eaten'+ 99 + 'burritos'"
   ]
  },
  {
   "cell_type": "code",
   "execution_count": null,
   "id": "2a8ec257-83d8-4e84-886b-53fa7c355d8a",
   "metadata": {},
   "outputs": [],
   "source": [
    "This expression cause an error because 99 is an integer data type and string + int is not allowed.\n",
    "You can only join strings with other strings, not with numbers directly.\n",
    "\n",
    "You need to convert 99 to a string using the str() function:\n",
    "'I have eaten ' + str(99) + ' burritos'\n"
   ]
  },
  {
   "cell_type": "code",
   "execution_count": null,
   "id": "d5f286c2-8bf8-46a4-8f6c-ed6d6aa33b55",
   "metadata": {},
   "outputs": [],
   "source": []
  },
  {
   "cell_type": "code",
   "execution_count": null,
   "id": "ae19250f-654b-4556-843f-995699942adb",
   "metadata": {},
   "outputs": [],
   "source": []
  },
  {
   "cell_type": "code",
   "execution_count": null,
   "id": "5a85e76b-e009-4665-b9cf-d434b8e08521",
   "metadata": {},
   "outputs": [],
   "source": []
  },
  {
   "cell_type": "code",
   "execution_count": null,
   "id": "e3001f0e-41b6-4e3f-96d9-8a7dbafb9c54",
   "metadata": {},
   "outputs": [],
   "source": []
  },
  {
   "cell_type": "code",
   "execution_count": null,
   "id": "f812ffac-b453-4837-95c7-4a0d43fe73d9",
   "metadata": {},
   "outputs": [],
   "source": []
  },
  {
   "cell_type": "code",
   "execution_count": null,
   "id": "851be7c7-2163-4564-956e-86149da6b6ee",
   "metadata": {},
   "outputs": [],
   "source": []
  },
  {
   "cell_type": "code",
   "execution_count": null,
   "id": "d001d995-6260-435e-9633-f8555f43da62",
   "metadata": {},
   "outputs": [],
   "source": []
  },
  {
   "cell_type": "code",
   "execution_count": null,
   "id": "a4edfcf9-ac03-41d6-bf33-e44d65d8ab1f",
   "metadata": {},
   "outputs": [],
   "source": []
  },
  {
   "cell_type": "code",
   "execution_count": null,
   "id": "24374c74-5654-490e-b0a8-efbe5fb7e1bb",
   "metadata": {},
   "outputs": [],
   "source": []
  },
  {
   "cell_type": "code",
   "execution_count": null,
   "id": "f01e6fc9-2195-4e2e-b43d-bd02e89ae4aa",
   "metadata": {},
   "outputs": [],
   "source": []
  },
  {
   "cell_type": "code",
   "execution_count": null,
   "id": "4f13e532-cb0f-4707-b795-45f995e4a370",
   "metadata": {},
   "outputs": [],
   "source": []
  },
  {
   "cell_type": "code",
   "execution_count": null,
   "id": "1b5b8750-b0e1-4e2d-be7b-260b289e738b",
   "metadata": {},
   "outputs": [],
   "source": []
  },
  {
   "cell_type": "code",
   "execution_count": null,
   "id": "cb15e2bd-3d81-48e1-b08f-f47e513a8a6c",
   "metadata": {},
   "outputs": [],
   "source": []
  },
  {
   "cell_type": "code",
   "execution_count": null,
   "id": "bd154c00-2bde-4757-bf75-31da4e2a7721",
   "metadata": {},
   "outputs": [],
   "source": []
  },
  {
   "cell_type": "code",
   "execution_count": null,
   "id": "057807bd-20e9-4c47-9b4c-436306897614",
   "metadata": {},
   "outputs": [],
   "source": []
  },
  {
   "cell_type": "code",
   "execution_count": null,
   "id": "c6fff5c3-aed6-4742-8329-536dc27180a2",
   "metadata": {},
   "outputs": [],
   "source": []
  },
  {
   "cell_type": "code",
   "execution_count": null,
   "id": "0f1c7eff-a4c5-4360-80ce-48c16fa12ac3",
   "metadata": {},
   "outputs": [],
   "source": []
  }
 ],
 "metadata": {
  "kernelspec": {
   "display_name": "Python [conda env:base] *",
   "language": "python",
   "name": "conda-base-py"
  },
  "language_info": {
   "codemirror_mode": {
    "name": "ipython",
    "version": 3
   },
   "file_extension": ".py",
   "mimetype": "text/x-python",
   "name": "python",
   "nbconvert_exporter": "python",
   "pygments_lexer": "ipython3",
   "version": "3.12.7"
  }
 },
 "nbformat": 4,
 "nbformat_minor": 5
}
