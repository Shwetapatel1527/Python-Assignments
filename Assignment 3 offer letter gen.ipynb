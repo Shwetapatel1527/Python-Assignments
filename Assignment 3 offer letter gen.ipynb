{
 "cells": [
  {
   "cell_type": "markdown",
   "id": "ad355728-c073-475e-80a2-da1fe763ce67",
   "metadata": {},
   "source": [
    "# create a offer letter for a candidate\n",
    "# take input from user for each variable\n",
    "\n",
    "\n",
    "A/52 Sector  16 Noida UP \n",
    "\n",
    "Dear Rohit Kumar,\n",
    "\n",
    "Subject: Offer of Employment for the position of Python Developer\n",
    "\n",
    "We are delighted to extend this formal offer of employment to you for the position of Python Developer at our organization. Based on your qualifications and the skills you demonstrated during the recruitment process, we are confident that you will be a valuable addition to our team.\n",
    "\n",
    "As discussed, your expected date of joining is 01-01-20213. Your total compensation package will be 2545558562, which includes all salary components as per the company’s policy. Further details regarding your compensation will be provided in your employment contract.\n",
    "\n",
    "We expect you to bring your best efforts to help the company achieve its goals, and we are committed to supporting your professional growth during your time with us.\n",
    "\n",
    "Please confirm your acceptance of this offer by sending an email to RKT6543@gmail.com at your earliest convenience. Should you have any queries regarding this offer, feel free to reach out to us.\n",
    "\n",
    "We look forward to having you onboard and are excited about the great things we can accomplish together.\n",
    "\n",
    "Sincerely,\n",
    "\n",
    "Sunil Kumar\n",
    "HR Manager"
   ]
  },
  {
   "cell_type": "code",
   "execution_count": null,
   "id": "f00ec917-b8ba-407d-982e-167e4adc0e36",
   "metadata": {},
   "outputs": [],
   "source": [
    "# Taking input from the user\n",
    "candidate_name = input(\"Enter candidate's name: \")\n",
    "position = input(\"Enter job position: \")\n",
    "joining_date = input(\"Enter joining date (DD-MM-YYYY): \")\n",
    "salary = input(\"Enter total compensation package: \")\n",
    "email = input(\"Enter contact email: \")\n",
    "hr_name = input(\"Enter HR name: \")\n",
    "\n",
    "# Offer letter content\n",
    "offer_letter = f\"\"\"\n",
    "A/52 Sector  16 Noida UP \n",
    "\n",
    "Dear {candidate_name},\n",
    "\n",
    "Subject: Offer of Employment for the position of {position}\n",
    "\n",
    "We are delighted to extend this formal offer of employment to you for the position of {position} at our organization. Based on your qualifications and the skills you demonstrated during the recruitment process, we are confident that you will be a valuable addition to our team.\n",
    "\n",
    "As discussed, your expected date of joining is {joining_date}. Your total compensation package will be {salary}, which includes all salary components as per the company’s policy. Further details regarding your compensation will be provided in your employment contract.\n",
    "\n",
    "We expect you to bring your best efforts to help the company achieve its goals, and we are committed to supporting your professional growth during your time with us.\n",
    "\n",
    "Please confirm your acceptance of this offer by sending an email to {email} at your earliest convenience. Should you have any queries regarding this offer, feel free to reach out to us.\n",
    "\n",
    "We look forward to having you onboard and are excited about the great things we can accomplish together.\n",
    "\n",
    "Sincerely,\n",
    "\n",
    "{hr_name}\n",
    "HR Manager\n",
    "\"\"\"\n",
    "\n",
    "# Display the offer letter\n",
    "print(\"\\n------ Offer Letter ------\")\n",
    "print(offer_letter)\n"
   ]
  },
  {
   "cell_type": "code",
   "execution_count": null,
   "id": "f7f5f802-8513-470e-99db-c921d0cba1b0",
   "metadata": {},
   "outputs": [],
   "source": []
  }
 ],
 "metadata": {
  "kernelspec": {
   "display_name": "Python [conda env:base] *",
   "language": "python",
   "name": "conda-base-py"
  },
  "language_info": {
   "codemirror_mode": {
    "name": "ipython",
    "version": 3
   },
   "file_extension": ".py",
   "mimetype": "text/x-python",
   "name": "python",
   "nbconvert_exporter": "python",
   "pygments_lexer": "ipython3",
   "version": "3.12.7"
  }
 },
 "nbformat": 4,
 "nbformat_minor": 5
}
